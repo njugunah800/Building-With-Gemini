{
  "nbformat": 4,
  "nbformat_minor": 0,
  "metadata": {
    "colab": {
      "provenance": [],
      "include_colab_link": true
    },
    "kernelspec": {
      "name": "python3",
      "display_name": "Python 3"
    },
    "language_info": {
      "name": "python"
    }
  },
  "cells": [
    {
      "cell_type": "markdown",
      "metadata": {
        "id": "view-in-github",
        "colab_type": "text"
      },
      "source": [
        "<a href=\"https://colab.research.google.com/github/njugunah800/Building-With-Gemini/blob/main/Copy_of_building_with_gemini_.ipynb\" target=\"_parent\"><img src=\"https://colab.research.google.com/assets/colab-badge.svg\" alt=\"Open In Colab\"/></a>"
      ]
    },
    {
      "cell_type": "markdown",
      "source": [
        "# Install Important Packages"
      ],
      "metadata": {
        "id": "zl-cQ5KVhnFt"
      }
    },
    {
      "cell_type": "code",
      "source": [
        "%pip install -U -q 'google-genai' #installing\n",
        "%pip install -q chromadb"
      ],
      "metadata": {
        "id": "Jn1Ov1YgeJCE",
        "colab": {
          "base_uri": "https://localhost:8080/"
        },
        "outputId": "4731e33f-3f5c-414a-b1b7-f557c94de0b0"
      },
      "execution_count": 1,
      "outputs": [
        {
          "output_type": "stream",
          "name": "stdout",
          "text": [
            "\u001b[2K   \u001b[90m━━━━━━━━━━━━━━━━━━━━━━━━━━━━━━━━━━━━━━━━\u001b[0m \u001b[32m154.7/154.7 kB\u001b[0m \u001b[31m3.9 MB/s\u001b[0m eta \u001b[36m0:00:00\u001b[0m\n",
            "\u001b[2K     \u001b[90m━━━━━━━━━━━━━━━━━━━━━━━━━━━━━━━━━━━━━━━━\u001b[0m \u001b[32m67.3/67.3 kB\u001b[0m \u001b[31m2.7 MB/s\u001b[0m eta \u001b[36m0:00:00\u001b[0m\n",
            "\u001b[?25h  Installing build dependencies ... \u001b[?25l\u001b[?25hdone\n",
            "  Getting requirements to build wheel ... \u001b[?25l\u001b[?25hdone\n",
            "  Preparing metadata (pyproject.toml) ... \u001b[?25l\u001b[?25hdone\n",
            "\u001b[2K   \u001b[90m━━━━━━━━━━━━━━━━━━━━━━━━━━━━━━━━━━━━━━━━\u001b[0m \u001b[32m18.3/18.3 MB\u001b[0m \u001b[31m94.0 MB/s\u001b[0m eta \u001b[36m0:00:00\u001b[0m\n",
            "\u001b[2K   \u001b[90m━━━━━━━━━━━━━━━━━━━━━━━━━━━━━━━━━━━━━━━━\u001b[0m \u001b[32m2.4/2.4 MB\u001b[0m \u001b[31m86.5 MB/s\u001b[0m eta \u001b[36m0:00:00\u001b[0m\n",
            "\u001b[2K   \u001b[90m━━━━━━━━━━━━━━━━━━━━━━━━━━━━━━━━━━━━━━━━\u001b[0m \u001b[32m94.9/94.9 kB\u001b[0m \u001b[31m7.2 MB/s\u001b[0m eta \u001b[36m0:00:00\u001b[0m\n",
            "\u001b[2K   \u001b[90m━━━━━━━━━━━━━━━━━━━━━━━━━━━━━━━━━━━━━━━━\u001b[0m \u001b[32m284.2/284.2 kB\u001b[0m \u001b[31m21.6 MB/s\u001b[0m eta \u001b[36m0:00:00\u001b[0m\n",
            "\u001b[2K   \u001b[90m━━━━━━━━━━━━━━━━━━━━━━━━━━━━━━━━━━━━━━━━\u001b[0m \u001b[32m2.0/2.0 MB\u001b[0m \u001b[31m78.0 MB/s\u001b[0m eta \u001b[36m0:00:00\u001b[0m\n",
            "\u001b[2K   \u001b[90m━━━━━━━━━━━━━━━━━━━━━━━━━━━━━━━━━━━━━━━━\u001b[0m \u001b[32m101.6/101.6 kB\u001b[0m \u001b[31m8.7 MB/s\u001b[0m eta \u001b[36m0:00:00\u001b[0m\n",
            "\u001b[2K   \u001b[90m━━━━━━━━━━━━━━━━━━━━━━━━━━━━━━━━━━━━━━━━\u001b[0m \u001b[32m16.0/16.0 MB\u001b[0m \u001b[31m89.9 MB/s\u001b[0m eta \u001b[36m0:00:00\u001b[0m\n",
            "\u001b[2K   \u001b[90m━━━━━━━━━━━━━━━━━━━━━━━━━━━━━━━━━━━━━━━━\u001b[0m \u001b[32m55.9/55.9 kB\u001b[0m \u001b[31m3.6 MB/s\u001b[0m eta \u001b[36m0:00:00\u001b[0m\n",
            "\u001b[2K   \u001b[90m━━━━━━━━━━━━━━━━━━━━━━━━━━━━━━━━━━━━━━━━\u001b[0m \u001b[32m85.0/85.0 kB\u001b[0m \u001b[31m6.6 MB/s\u001b[0m eta \u001b[36m0:00:00\u001b[0m\n",
            "\u001b[2K   \u001b[90m━━━━━━━━━━━━━━━━━━━━━━━━━━━━━━━━━━━━━━━━\u001b[0m \u001b[32m62.3/62.3 kB\u001b[0m \u001b[31m4.7 MB/s\u001b[0m eta \u001b[36m0:00:00\u001b[0m\n",
            "\u001b[2K   \u001b[90m━━━━━━━━━━━━━━━━━━━━━━━━━━━━━━━━━━━━━━━━\u001b[0m \u001b[32m459.8/459.8 kB\u001b[0m \u001b[31m32.6 MB/s\u001b[0m eta \u001b[36m0:00:00\u001b[0m\n",
            "\u001b[2K   \u001b[90m━━━━━━━━━━━━━━━━━━━━━━━━━━━━━━━━━━━━━━━━\u001b[0m \u001b[32m71.5/71.5 kB\u001b[0m \u001b[31m5.9 MB/s\u001b[0m eta \u001b[36m0:00:00\u001b[0m\n",
            "\u001b[2K   \u001b[90m━━━━━━━━━━━━━━━━━━━━━━━━━━━━━━━━━━━━━━━━\u001b[0m \u001b[32m4.0/4.0 MB\u001b[0m \u001b[31m91.5 MB/s\u001b[0m eta \u001b[36m0:00:00\u001b[0m\n",
            "\u001b[2K   \u001b[90m━━━━━━━━━━━━━━━━━━━━━━━━━━━━━━━━━━━━━━━━\u001b[0m \u001b[32m454.8/454.8 kB\u001b[0m \u001b[31m30.2 MB/s\u001b[0m eta \u001b[36m0:00:00\u001b[0m\n",
            "\u001b[2K   \u001b[90m━━━━━━━━━━━━━━━━━━━━━━━━━━━━━━━━━━━━━━━━\u001b[0m \u001b[32m46.0/46.0 kB\u001b[0m \u001b[31m3.6 MB/s\u001b[0m eta \u001b[36m0:00:00\u001b[0m\n",
            "\u001b[2K   \u001b[90m━━━━━━━━━━━━━━━━━━━━━━━━━━━━━━━━━━━━━━━━\u001b[0m \u001b[32m86.8/86.8 kB\u001b[0m \u001b[31m6.7 MB/s\u001b[0m eta \u001b[36m0:00:00\u001b[0m\n",
            "\u001b[?25h  Building wheel for pypika (pyproject.toml) ... \u001b[?25l\u001b[?25hdone\n"
          ]
        }
      ]
    },
    {
      "cell_type": "code",
      "execution_count": 3,
      "metadata": {
        "id": "2wWKsR2-WhVf"
      },
      "outputs": [],
      "source": [
        "\n",
        "#@title Import Python Libraries\n",
        "# General data science libraries\n",
        "import pandas as pd\n",
        "import numpy as np\n",
        "\n",
        "# Pulling data from APIs, parsing JSON\n",
        "import requests\n",
        "import json\n",
        "\n",
        "# Interfacing w/ Cloud Storage from Python\n",
        "from google.cloud import storage\n",
        "\n",
        "# Plotting\n",
        "import matplotlib.pyplot as plt\n",
        "import seaborn as sns\n",
        "\n",
        "from IPython.display import HTML, Image, Markdown\n",
        "from google import genai\n",
        "from google.genai import types\n"
      ]
    },
    {
      "cell_type": "markdown",
      "source": [
        "# Create An API Key\n",
        "- Make sure you are logged in to your google account for this next step\n",
        "\n",
        "* Create API key in AI studio. https://aistudio.google.com/apikey  "
      ],
      "metadata": {
        "id": "QliVNQWKWvM7"
      }
    },
    {
      "cell_type": "code",
      "source": [
        "#get API key from env\n",
        "\n",
        "from google.colab import userdata\n",
        "\n",
        "GOOGLE_API_KEY = userdata.get('GOOGLE_API_KEY')"
      ],
      "metadata": {
        "id": "hZLfbqEfW_9k"
      },
      "execution_count": 8,
      "outputs": []
    },
    {
      "cell_type": "markdown",
      "source": [
        "# CHOOSE YOUR MODEL\n",
        "\n"
      ],
      "metadata": {
        "id": "yJYrcpwIXgDi"
      }
    },
    {
      "cell_type": "markdown",
      "source": [
        "# We'll Use the Gemini Flash Models"
      ],
      "metadata": {
        "id": "UsM4exubXm5W"
      }
    },
    {
      "cell_type": "code",
      "source": [
        "MODEL_ID = \"gemini-2.0-flash\" # @param [\"gemini-1.5-flash-latest\",\"gemini-2.0-flash-lite\",\"gemini-2.0-flash\",\"gemini-2.5-pro-exp-03-25\"]\n"
      ],
      "metadata": {
        "id": "-CapOaQBXfLg"
      },
      "execution_count": 9,
      "outputs": []
    },
    {
      "cell_type": "code",
      "source": [
        "client = genai.Client(api_key=GOOGLE_API_KEY) #instance of gen ai client"
      ],
      "metadata": {
        "id": "3U__6PVsYjI7"
      },
      "execution_count": 10,
      "outputs": []
    },
    {
      "cell_type": "markdown",
      "source": [
        "how we upload the video"
      ],
      "metadata": {
        "id": "0Q62gQJvhtzz"
      }
    },
    {
      "cell_type": "code",
      "source": [
        "#fn--Upload the video\n",
        "import time\n",
        "\n",
        "def upload_video(video_file_name):\n",
        "  video_file = client.files.upload(file=video_file_name)\n",
        "\n",
        "  while video_file.state == \"PROCESSING\":\n",
        "      print('Waiting for video to be processed.')\n",
        "      time.sleep(10)\n",
        "      video_file = client.files.get(name=video_file.name)\n",
        "\n",
        "  if video_file.state == \"FAILED\":\n",
        "    raise ValueError(video_file.state)\n",
        "  print(f'Video processing complete: ' + video_file.uri)\n",
        "\n",
        "  return video_file"
      ],
      "metadata": {
        "id": "_rO6Jy5CZwut"
      },
      "execution_count": 11,
      "outputs": []
    },
    {
      "cell_type": "markdown",
      "source": [],
      "metadata": {
        "id": "ZCognr-hYuri"
      }
    },
    {
      "cell_type": "code",
      "source": [
        "#Video Analysis with Gemini"
      ],
      "metadata": {
        "id": "c7_yOlkBXy6g"
      },
      "execution_count": null,
      "outputs": []
    },
    {
      "cell_type": "code",
      "source": [
        "vid_file =\"https://sporty-clips.mlb.com/MTYyVlZfV0ZRVkV3dEdEUT09X0F3ZFJCVlpTWDFBQUFWY0tYd0FBVkFJRUFGZ0FCVlFBQUFCVEJ3b0RBZ0JSVVF0Uw==.mp4\" #@param {type:\"string\"}\n",
        "!wget {vid_file} -O home_run.mp4 -q # Directly download and save as home_run.mp4\n",
        "home_run_video = upload_video('home_run.mp4')"
      ],
      "metadata": {
        "id": "mCMtjDFCYwBN",
        "colab": {
          "base_uri": "https://localhost:8080/"
        },
        "outputId": "576fe065-d708-4d51-da39-9824407ca68e"
      },
      "execution_count": 12,
      "outputs": [
        {
          "output_type": "stream",
          "name": "stdout",
          "text": [
            "Waiting for video to be processed.\n",
            "Video processing complete: https://generativelanguage.googleapis.com/v1beta/files/j5xtq37b8zcx\n"
          ]
        }
      ]
    },
    {
      "cell_type": "code",
      "source": [
        "HTML(f\"\"\"<video width=\"640\" height=\"360\" controls>\n",
        "          <source src=\"{vid_file}\" type=\"video/mp4\">\n",
        "          Your browser does not support the video tag.\n",
        "        </video>\"\"\")"
      ],
      "metadata": {
        "id": "Itkis4ndX7sR",
        "colab": {
          "base_uri": "https://localhost:8080/",
          "height": 381
        },
        "outputId": "8c9cd3c4-0f75-45c1-d3b5-f63d6ea9d65a"
      },
      "execution_count": 13,
      "outputs": [
        {
          "output_type": "execute_result",
          "data": {
            "text/plain": [
              "<IPython.core.display.HTML object>"
            ],
            "text/html": [
              "<video width=\"640\" height=\"360\" controls>\n",
              "          <source src=\"https://sporty-clips.mlb.com/MTYyVlZfV0ZRVkV3dEdEUT09X0F3ZFJCVlpTWDFBQUFWY0tYd0FBVkFJRUFGZ0FCVlFBQUFCVEJ3b0RBZ0JSVVF0Uw==.mp4\" type=\"video/mp4\">\n",
              "          Your browser does not support the video tag.\n",
              "        </video>"
            ]
          },
          "metadata": {},
          "execution_count": 13
        }
      ]
    },
    {
      "cell_type": "code",
      "source": [
        "system_instruction_prompt = \"You are a baseball analytics systems, you analyze the video frame by frame and you give the best analysis possible, clear and concise but verbose on request.\" # @param {type:\"string\"}\n",
        "prompt = \"What's happening in the video, give me stats from the statcast.\" # @param [\"Give me a table of my items and notes\", \"Help me come up with a selling pitch for my potteries\"] {\"allow-input\":true}\n",
        "\n",
        "video = home_run_video # @param\n",
        "\n",
        "response = client.models.generate_content(\n",
        "    model=MODEL_ID,\n",
        "    contents=[\n",
        "        video,\n",
        "        prompt,\n",
        "    ],\n",
        "    config = types.GenerateContentConfig(\n",
        "        system_instruction= system_instruction_prompt,\n",
        "\n",
        "    )\n",
        ")"
      ],
      "metadata": {
        "id": "Msvy82n2YZ3A"
      },
      "execution_count": 14,
      "outputs": []
    },
    {
      "cell_type": "code",
      "source": [
        "Markdown(response.text)"
      ],
      "metadata": {
        "colab": {
          "base_uri": "https://localhost:8080/",
          "height": 157
        },
        "id": "hGxNU6S1dhTE",
        "outputId": "10e822d3-3ca6-4041-ff56-85a56f759728"
      },
      "execution_count": 16,
      "outputs": [
        {
          "output_type": "execute_result",
          "data": {
            "text/plain": [
              "<IPython.core.display.Markdown object>"
            ],
            "text/markdown": "Certainly. Here's the analysis of the play from the clip:\n\n**Event:** Freddie Freeman hits a walk-off home run, winning Game 1 of the World Series for the Dodgers.\n\n**Pitch:**\n\n*   Pitch type: Four-seam fastball\n*   Velocity: 93 mph\n\nThe ball was hit to right field and went out of the park. The score was tied 3-3 with the Dodgers on the verge of losing."
          },
          "metadata": {},
          "execution_count": 16
        }
      ]
    },
    {
      "cell_type": "markdown",
      "source": [
        "# Use JSON Mode"
      ],
      "metadata": {
        "id": "6cisw3MVeOG6"
      }
    },
    {
      "cell_type": "code",
      "source": [
        "import typing_extensions as typing"
      ],
      "metadata": {
        "id": "nDwHqBgeeM8M"
      },
      "execution_count": null,
      "outputs": []
    },
    {
      "cell_type": "code",
      "source": [
        "class ResponseSchema(typing.TypedDict):\n",
        "    play_description: str\n",
        "    ball_type: str\n",
        "    pitch_speed: str\n",
        "    exit_velocity: str\n",
        "    launch_angle: str\n",
        "    launch_direction: str"
      ],
      "metadata": {
        "id": "GKv-mXBuefTS"
      },
      "execution_count": null,
      "outputs": []
    },
    {
      "cell_type": "code",
      "source": [
        "response = client.models.generate_content(\n",
        "    model=MODEL_ID,\n",
        "    contents=[\n",
        "        video,\n",
        "        prompt,\n",
        "    ],\n",
        "    config = types.GenerateContentConfig(\n",
        "        system_instruction= system_instruction_prompt,\n",
        "        response_mime_type=\"application/json\",\n",
        "        response_schema = ResponseSchema),\n",
        "    )\n"
      ],
      "metadata": {
        "id": "i6aN1AnEe1ZO"
      },
      "execution_count": null,
      "outputs": []
    },
    {
      "cell_type": "code",
      "source": [
        "print(json.dumps(json.loads(response.text), indent=4))"
      ],
      "metadata": {
        "colab": {
          "base_uri": "https://localhost:8080/"
        },
        "id": "WaZuyxwvfGZM",
        "outputId": "faa36691-37a0-4222-cab2-b7db9be47efb"
      },
      "execution_count": null,
      "outputs": [
        {
          "output_type": "stream",
          "name": "stdout",
          "text": [
            "{\n",
            "    \"play_description\": \"Freddie Freeman hits a walk-off home run to right field\",\n",
            "    \"ball_type\": \"Four-Seam Fastball\",\n",
            "    \"pitch_speed\": \"93 MPH\",\n",
            "    \"exit_velocity\": \"99 MPH\",\n",
            "    \"launch_angle\": \"28 Degrees\",\n",
            "    \"launch_direction\": \"Right Field\"\n",
            "}\n"
          ]
        }
      ]
    },
    {
      "cell_type": "markdown",
      "source": [
        "# Use Embeddings For Vector Search"
      ],
      "metadata": {
        "id": "68vcYepofZ51"
      }
    },
    {
      "cell_type": "code",
      "source": [
        "#@title Configure a GenAI instance with your API KEY\n",
        "import google.generativeai as genai\n",
        "\n",
        "\n",
        "genai.configure(api_key=GOOGLE_API_KEY)"
      ],
      "metadata": {
        "id": "LTPk9Vqufw-r"
      },
      "execution_count": null,
      "outputs": []
    },
    {
      "cell_type": "code",
      "source": [
        "for m in genai.list_models():\n",
        "  if 'embedContent' in m.supported_generation_methods:\n",
        "    print(m.name)"
      ],
      "metadata": {
        "colab": {
          "base_uri": "https://localhost:8080/",
          "height": 86
        },
        "id": "AuakO06afgH4",
        "outputId": "25206555-3113-4dde-9406-67d7a39c5b93"
      },
      "execution_count": null,
      "outputs": [
        {
          "output_type": "stream",
          "name": "stdout",
          "text": [
            "models/embedding-001\n",
            "models/text-embedding-004\n",
            "models/gemini-embedding-exp-03-07\n",
            "models/gemini-embedding-exp\n"
          ]
        }
      ]
    },
    {
      "cell_type": "code",
      "source": [
        "\n",
        "DOCUMENT1 = \"Operating the Climate Control System  Your Googlecar has a climate control system that allows you to adjust the temperature and airflow in the car. To operate the climate control system, use the buttons and knobs located on the center console.  Temperature: The temperature knob controls the temperature inside the car. Turn the knob clockwise to increase the temperature or counterclockwise to decrease the temperature. Airflow: The airflow knob controls the amount of airflow inside the car. Turn the knob clockwise to increase the airflow or counterclockwise to decrease the airflow. Fan speed: The fan speed knob controls the speed of the fan. Turn the knob clockwise to increase the fan speed or counterclockwise to decrease the fan speed. Mode: The mode button allows you to select the desired mode. The available modes are: Auto: The car will automatically adjust the temperature and airflow to maintain a comfortable level. Cool: The car will blow cool air into the car. Heat: The car will blow warm air into the car. Defrost: The car will blow warm air onto the windshield to defrost it.\"\n",
        "DOCUMENT2 = \"Your Googlecar has a large touchscreen display that provides access to a variety of features, including navigation, entertainment, and climate control. To use the touchscreen display, simply touch the desired icon.  For example, you can touch the \\\"Navigation\\\" icon to get directions to your destination or touch the \\\"Music\\\" icon to play your favorite songs.\"\n",
        "DOCUMENT3 = \"Shifting Gears Your Googlecar has an automatic transmission. To shift gears, simply move the shift lever to the desired position.  Park: This position is used when you are parked. The wheels are locked and the car cannot move. Reverse: This position is used to back up. Neutral: This position is used when you are stopped at a light or in traffic. The car is not in gear and will not move unless you press the gas pedal. Drive: This position is used to drive forward. Low: This position is used for driving in snow or other slippery conditions.\"\n",
        "\n",
        "documents = [DOCUMENT1, DOCUMENT2, DOCUMENT3]"
      ],
      "metadata": {
        "id": "yoheZK65f8M5"
      },
      "execution_count": null,
      "outputs": []
    },
    {
      "cell_type": "code",
      "source": [
        "from chromadb import Documents, EmbeddingFunction, Embeddings, chromadb\n"
      ],
      "metadata": {
        "id": "C0pP86p3gIrs"
      },
      "execution_count": null,
      "outputs": []
    },
    {
      "cell_type": "code",
      "source": [
        "class GeminiEmbeddingFunction(EmbeddingFunction):\n",
        "  def __call__(self, input: Documents) -> Embeddings:\n",
        "    model = 'models/embedding-001'\n",
        "    title = \"Custom query\"\n",
        "    return genai.embed_content(model=model,\n",
        "                                content=input,\n",
        "                                task_type=\"retrieval_document\",\n",
        "                                title=title)[\"embedding\"]\n",
        "  #to be implemented to avoid deprecation\n",
        "  '''\n",
        "  def __init__(self, input: Documents) -> Embeddings:\n",
        "    model = 'models/embedding-001'\n",
        "    title = \"Custom query\"\n",
        "    return genai.embed_content(model=model,\n",
        "                                content=input,\n",
        "                                task_type=\"retrieval_document\",\n",
        "                                title=title)[\"embedding\"]\n",
        "                                '''\n"
      ],
      "metadata": {
        "id": "amPJDQqSgAkV"
      },
      "execution_count": null,
      "outputs": []
    },
    {
      "cell_type": "markdown",
      "source": [
        "How it works it transforms string using a proprietary vector function to an array of vectors, and stores the vectors and original content."
      ],
      "metadata": {
        "id": "dIk6d7vRh18j"
      }
    },
    {
      "cell_type": "code",
      "source": [
        "def create_chroma_db(documents, name):\n",
        "  chroma_client = chromadb.Client()\n",
        "  db = chroma_client.get_or_create_collection(name=name, embedding_function=GeminiEmbeddingFunction())\n",
        "  for i, d in enumerate(documents):\n",
        "    db.add(\n",
        "      documents=d,\n",
        "      ids=str(i)\n",
        "    )\n",
        "  return db"
      ],
      "metadata": {
        "id": "I3VXIId7gVYF"
      },
      "execution_count": null,
      "outputs": []
    },
    {
      "cell_type": "code",
      "source": [
        "db = create_chroma_db(documents, \"googlecarsdatabase_1\")"
      ],
      "metadata": {
        "id": "uYF-D8S6gbpH",
        "colab": {
          "base_uri": "https://localhost:8080/",
          "height": 52
        },
        "outputId": "d8dedf6a-951a-4519-c838-b730fa717fea"
      },
      "execution_count": null,
      "outputs": [
        {
          "output_type": "stream",
          "name": "stderr",
          "text": [
            "<ipython-input-63-104ad011433a>:3: DeprecationWarning: The class GeminiEmbeddingFunction does not implement __init__. This will be required in a future version.\n",
            "  db = chroma_client.get_or_create_collection(name=name, embedding_function=GeminiEmbeddingFunction())\n"
          ]
        }
      ]
    },
    {
      "cell_type": "code",
      "source": [
        "db.get(include=[\"embeddings\"])"
      ],
      "metadata": {
        "colab": {
          "base_uri": "https://localhost:8080/"
        },
        "id": "mQnDJ3vdMDps",
        "outputId": "c0418f26-ddb5-432e-9b6c-14bdf17e229f"
      },
      "execution_count": null,
      "outputs": [
        {
          "output_type": "execute_result",
          "data": {
            "text/plain": [
              "{'ids': ['0', '1', '2'],\n",
              " 'embeddings': array([[-0.02099494, -0.03876613, -0.05423354, ...,  0.00865673,\n",
              "         -0.05088616,  0.02915585],\n",
              "        [ 0.0174108 , -0.04757163, -0.02510802, ...,  0.03530323,\n",
              "         -0.03800508,  0.02270922],\n",
              "        [-0.03194406, -0.02328151, -0.03803354, ..., -0.02371154,\n",
              "         -0.00614928,  0.03037698]]),\n",
              " 'documents': None,\n",
              " 'uris': None,\n",
              " 'included': ['embeddings'],\n",
              " 'data': None,\n",
              " 'metadatas': None}"
            ]
          },
          "metadata": {},
          "execution_count": 65
        }
      ]
    },
    {
      "cell_type": "code",
      "source": [
        "db.get(include=[\"documents\"])"
      ],
      "metadata": {
        "colab": {
          "base_uri": "https://localhost:8080/"
        },
        "id": "69-RhMLXLehg",
        "outputId": "86f9bd95-5ec5-40ad-d664-ad92f630ba76"
      },
      "execution_count": null,
      "outputs": [
        {
          "output_type": "execute_result",
          "data": {
            "text/plain": [
              "{'ids': ['0', '1', '2'],\n",
              " 'embeddings': None,\n",
              " 'documents': ['Operating the Climate Control System  Your Googlecar has a climate control system that allows you to adjust the temperature and airflow in the car. To operate the climate control system, use the buttons and knobs located on the center console.  Temperature: The temperature knob controls the temperature inside the car. Turn the knob clockwise to increase the temperature or counterclockwise to decrease the temperature. Airflow: The airflow knob controls the amount of airflow inside the car. Turn the knob clockwise to increase the airflow or counterclockwise to decrease the airflow. Fan speed: The fan speed knob controls the speed of the fan. Turn the knob clockwise to increase the fan speed or counterclockwise to decrease the fan speed. Mode: The mode button allows you to select the desired mode. The available modes are: Auto: The car will automatically adjust the temperature and airflow to maintain a comfortable level. Cool: The car will blow cool air into the car. Heat: The car will blow warm air into the car. Defrost: The car will blow warm air onto the windshield to defrost it.',\n",
              "  'Your Googlecar has a large touchscreen display that provides access to a variety of features, including navigation, entertainment, and climate control. To use the touchscreen display, simply touch the desired icon.  For example, you can touch the \"Navigation\" icon to get directions to your destination or touch the \"Music\" icon to play your favorite songs.',\n",
              "  'Shifting Gears Your Googlecar has an automatic transmission. To shift gears, simply move the shift lever to the desired position.  Park: This position is used when you are parked. The wheels are locked and the car cannot move. Reverse: This position is used to back up. Neutral: This position is used when you are stopped at a light or in traffic. The car is not in gear and will not move unless you press the gas pedal. Drive: This position is used to drive forward. Low: This position is used for driving in snow or other slippery conditions.'],\n",
              " 'uris': None,\n",
              " 'included': ['documents'],\n",
              " 'data': None,\n",
              " 'metadatas': None}"
            ]
          },
          "metadata": {},
          "execution_count": 66
        }
      ]
    },
    {
      "cell_type": "code",
      "source": [
        "def get_relevant_passage(query, db):\n",
        "  passage = db.query(query_texts=[query], n_results=1)['documents'][0][0]\n",
        "  return passage\n"
      ],
      "metadata": {
        "id": "6V_Pnpa4g0KC"
      },
      "execution_count": null,
      "outputs": []
    },
    {
      "cell_type": "markdown",
      "source": [
        "Now the search query is transformed in to a set of vectors and compared and this function gets the closeset, document using function :\n",
        "> `[R = A - S]` reursively `where R the result is the closest matched doc` , `S represents the search string` and  `A is a doc from the database`\n",
        "\n"
      ],
      "metadata": {
        "id": "y06P5CsOiLTw"
      }
    },
    {
      "cell_type": "code",
      "source": [
        " #@title This a utility function\n",
        " #@markdown it helps the application create a prompt to query the AI by joining the QUESTION to the PASSSAGE\n",
        "\n",
        "def make_prompt(query, relevant_passage):\n",
        "  escaped = relevant_passage.replace(\"'\", \"\").replace('\"', \"\").replace(\"\\n\", \" \")\n",
        "  prompt = (\"\"\"You are a helpful and informative bot that answers questions using text from the reference passage included below. \\\n",
        "  Be sure to respond in a complete sentence, being comprehensive, including all relevant background information. \\\n",
        "  However, you are talking to a non-technical audience, so be sure to break down complicated concepts and \\\n",
        "  strike a friendly and converstional tone. \\\n",
        "  If the passage is irrelevant to the answer, you may ignore it.\n",
        "  QUESTION: '{query}'\n",
        "  PASSAGE: '{relevant_passage}'\n",
        "  ANSWER:\n",
        "  \"\"\").format(query=query, relevant_passage=escaped)\n",
        "\n",
        "  return prompt"
      ],
      "metadata": {
        "id": "ZY4_wMx8g8NI"
      },
      "execution_count": null,
      "outputs": []
    },
    {
      "cell_type": "code",
      "source": [
        " #@title Get tht Passage\n",
        "\n",
        "passage = get_relevant_passage(\"touch screen features\", db)\n",
        "Markdown(passage)"
      ],
      "metadata": {
        "colab": {
          "base_uri": "https://localhost:8080/",
          "height": 81
        },
        "id": "mJ3Lz5nehP33",
        "outputId": "432706d8-1b79-4f73-cede-c1171dfa3e9c"
      },
      "execution_count": null,
      "outputs": [
        {
          "output_type": "execute_result",
          "data": {
            "text/plain": [
              "<IPython.core.display.Markdown object>"
            ],
            "text/markdown": "Your Googlecar has a large touchscreen display that provides access to a variety of features, including navigation, entertainment, and climate control. To use the touchscreen display, simply touch the desired icon.  For example, you can touch the \"Navigation\" icon to get directions to your destination or touch the \"Music\" icon to play your favorite songs."
          },
          "metadata": {},
          "execution_count": 69
        }
      ]
    },
    {
      "cell_type": "code",
      "source": [
        "\n",
        "query = \"How do you use the touchscreen in the Google car?\" #@param\n",
        "prompt = make_prompt(query, passage)\n",
        "Markdown('''\n",
        "# This is the prompt(Passage + Query)\n",
        "'''+prompt)"
      ],
      "metadata": {
        "colab": {
          "base_uri": "https://localhost:8080/",
          "height": 187
        },
        "id": "uhd4WfaRg_oe",
        "outputId": "d33967e5-e679-40ee-9790-72d12b0631e0"
      },
      "execution_count": null,
      "outputs": [
        {
          "output_type": "execute_result",
          "data": {
            "text/plain": [
              "<IPython.core.display.Markdown object>"
            ],
            "text/markdown": "\n# This is the prompt(Passage + Query)\nYou are a helpful and informative bot that answers questions using text from the reference passage included below.  Be sure to respond in a complete sentence, being comprehensive, including all relevant background information.  However, you are talking to a non-technical audience, so be sure to break down complicated concepts and  strike a friendly and converstional tone.  If the passage is irrelevant to the answer, you may ignore it.\n QUESTION: 'How do you use the touchscreen in the Google car?'\n PASSAGE: 'Your Googlecar has a large touchscreen display that provides access to a variety of features, including navigation, entertainment, and climate control. To use the touchscreen display, simply touch the desired icon.  For example, you can touch the Navigation icon to get directions to your destination or touch the Music icon to play your favorite songs.'\n ANSWER:\n "
          },
          "metadata": {},
          "execution_count": 70
        }
      ]
    },
    {
      "cell_type": "code",
      "source": [
        "model = genai.GenerativeModel(MODEL_ID)\n",
        "answer = model.generate_content(prompt)\n",
        "Markdown('''\n",
        "# Gemini Says:\n",
        "'''+answer.text)"
      ],
      "metadata": {
        "colab": {
          "base_uri": "https://localhost:8080/",
          "height": 117
        },
        "id": "s_YBG96_hce-",
        "outputId": "f5577314-94d4-47f9-f67a-f0b8041d9281"
      },
      "execution_count": null,
      "outputs": [
        {
          "output_type": "execute_result",
          "data": {
            "text/plain": [
              "<IPython.core.display.Markdown object>"
            ],
            "text/markdown": "\n# Gemini Says:\nThe Googlecar has a large touchscreen display that gives you access to many different features, including navigation, entertainment, and climate control, and you can use it by simply touching the icon for the feature you want to use.\n"
          },
          "metadata": {},
          "execution_count": 71
        }
      ]
    }
  ]
}